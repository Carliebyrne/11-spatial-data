{
 "cells": [
  {
   "cell_type": "markdown",
   "metadata": {},
   "source": [
    "# Geocoding using an online API\n",
    "\n",
    "We're going to explore geocoding using LocationIQ's API. If you've never used an API before this might be a fun introduction to how 90% of how analytics on the web works.\n",
    "\n",
    "Before you get going you will need to have a LocationIQ API key - something that authenticates you as 'not a bot' to LocationIQ's servers. You can get one by heading over here and signing up for an account: https://locationiq.com\n",
    "\n",
    "Then you'll need to create an access token to let Python access the API. You can do this here: https://my.locationiq.com/dashboard#account\n",
    "\n",
    "Once you've got your access token you should include it here:"
   ]
  },
  {
   "cell_type": "code",
   "execution_count": 13,
   "metadata": {},
   "outputs": [],
   "source": [
    "YOUR_PRIVATE_TOKEN = 'pk.43c846009c83577eb92f8c2407087817' # put your own token in here..."
   ]
  },
  {
   "cell_type": "markdown",
   "metadata": {},
   "source": [
    "We're going to use the `requests` library to send and recieve data from LocationIQ's API over the network. This is baked into every conda install so you don't have to install it yourself. For more on `requests` read [the documentation here](http://docs.python-requests.org/en/master/)."
   ]
  },
  {
   "cell_type": "code",
   "execution_count": 14,
   "metadata": {},
   "outputs": [],
   "source": [
    "import requests"
   ]
  },
  {
   "cell_type": "markdown",
   "metadata": {},
   "source": [
    "Let's take a look at what we can do with the API. Head over to LocationIQ's documentation page on 'forward geocoding' and browse around:\n",
    "\n",
    "https://locationiq.com/docs#forward-geocoding\n",
    "\n",
    "You'll notice that on the left there are a bunch of tabs to show example code in different languages. Click on the Python one and you'll get something like the following code:"
   ]
  },
  {
   "cell_type": "code",
   "execution_count": 28,
   "metadata": {},
   "outputs": [],
   "source": [
    "# The URL that we're going to hit\n",
    "url = \"https://us1.locationiq.com/v1/search.php\"\n",
    "data = {\n",
    "    'key': YOUR_PRIVATE_TOKEN,     # our token from above\n",
    "    'q': 'Empire State Building',  # the place that we want to search for\n",
    "    'format': 'json'               # how we want to get the results\n",
    "}\n",
    "\n",
    "# Actually hit the endpoint\n",
    "response = requests.get(url, params=data)"
   ]
  },
  {
   "cell_type": "markdown",
   "metadata": {},
   "source": [
    "What this does is create an HTTP request object, hit the endpoint over the web and then return the JSON document that it gets\n",
    "\n",
    "You can see the URL that gets created from the data dictionary:"
   ]
  },
  {
   "cell_type": "code",
   "execution_count": 29,
   "metadata": {},
   "outputs": [
    {
     "data": {
      "text/plain": [
       "'https://us1.locationiq.com/v1/search.php?key=pk.43c846009c83577eb92f8c2407087817&q=Empire+State+Building&format=json'"
      ]
     },
     "execution_count": 29,
     "metadata": {},
     "output_type": "execute_result"
    }
   ],
   "source": [
    "response.url"
   ]
  },
  {
   "cell_type": "markdown",
   "metadata": {},
   "source": [
    "...the status code for the request"
   ]
  },
  {
   "cell_type": "code",
   "execution_count": 30,
   "metadata": {},
   "outputs": [
    {
     "data": {
      "text/plain": [
       "200"
      ]
     },
     "execution_count": 30,
     "metadata": {},
     "output_type": "execute_result"
    }
   ],
   "source": [
    "response.status_code"
   ]
  },
  {
   "cell_type": "markdown",
   "metadata": {},
   "source": [
    "..even whether the response returned normally"
   ]
  },
  {
   "cell_type": "code",
   "execution_count": 31,
   "metadata": {},
   "outputs": [
    {
     "data": {
      "text/plain": [
       "True"
      ]
     },
     "execution_count": 31,
     "metadata": {},
     "output_type": "execute_result"
    }
   ],
   "source": [
    "response.ok"
   ]
  },
  {
   "cell_type": "markdown",
   "metadata": {},
   "source": [
    "The other nice thing that requests does is automatically parse the returned text into a Python dictionary for us. Let's take a look at that:"
   ]
  },
  {
   "cell_type": "code",
   "execution_count": 32,
   "metadata": {},
   "outputs": [
    {
     "data": {
      "text/plain": [
       "[{'place_id': '85166135',\n",
       "  'licence': '© LocationIQ.com CC BY 4.0, Data © OpenStreetMap contributors, ODbL 1.0',\n",
       "  'osm_type': 'way',\n",
       "  'osm_id': '34633854',\n",
       "  'boundingbox': ['40.7479226', '40.7489422', '-73.9864855', '-73.9848259'],\n",
       "  'lat': '40.7484284',\n",
       "  'lon': '-73.9856546198733',\n",
       "  'display_name': 'Empire State Building, 350, 5th Avenue, Korea Town, Midtown South, Manhattan, Manhattan Community Board 5, New York County, New York City, New York, 10001, USA',\n",
       "  'class': 'tourism',\n",
       "  'type': 'attraction',\n",
       "  'importance': 0.82289665394454,\n",
       "  'icon': 'https://locationiq.org/static/images/mapicons/poi_point_of_interest.p.20.png'},\n",
       " {'place_id': '28730811',\n",
       "  'licence': '© LocationIQ.com CC BY 4.0, Data © OpenStreetMap contributors, ODbL 1.0',\n",
       "  'osm_type': 'node',\n",
       "  'osm_id': '2709306673',\n",
       "  'boundingbox': ['40.7481128', '40.7482128', '-73.9850458', '-73.9849458'],\n",
       "  'lat': '40.7481628',\n",
       "  'lon': '-73.9849958',\n",
       "  'display_name': 'Empire State Building, 350, 5th Avenue, Korea Town, Midtown South, Manhattan, Manhattan Community Board 5, New York County, New York City, New York, 10001, USA',\n",
       "  'class': 'tourism',\n",
       "  'type': 'attraction',\n",
       "  'importance': 0.301,\n",
       "  'icon': 'https://locationiq.org/static/images/mapicons/poi_point_of_interest.p.20.png'},\n",
       " {'place_id': '65985530',\n",
       "  'licence': '© LocationIQ.com CC BY 4.0, Data © OpenStreetMap contributors, ODbL 1.0',\n",
       "  'osm_type': 'node',\n",
       "  'osm_id': '5552887205',\n",
       "  'boundingbox': ['52.2956835', '52.2957835', '16.7553074', '16.7554074'],\n",
       "  'lat': '52.2957335',\n",
       "  'lon': '16.7553574',\n",
       "  'display_name': 'Empire State Building, Poznańska, Trzebaw, gmina Stęszew, powiat poznański, Greater Poland Voivodeship, Poland',\n",
       "  'class': 'tourism',\n",
       "  'type': 'artwork',\n",
       "  'importance': 0.301,\n",
       "  'icon': 'https://locationiq.org/static/images/mapicons/tourist_art_gallery2.p.20.png'}]"
      ]
     },
     "execution_count": 32,
     "metadata": {},
     "output_type": "execute_result"
    }
   ],
   "source": [
    "response.json()"
   ]
  },
  {
   "cell_type": "markdown",
   "metadata": {},
   "source": [
    "So it turns out that there are several 'places' associated with the name 'Empire State Building'. In particular we now have point locations (latitude and longitude) and even a full display address that we could use to add value to our data. Which one you pick is up to you but note that LocationIQ also provides an 'importance' attribute that you could use to filter your results.\n",
    "\n",
    "For now, let's extract the latitude and longitude and put this on a map, all in Python. We're going to use `cartopy` to generate our maps and handle the projections for us. For more on `cartopy` check out [its documentation here](https://scitools.org.uk/cartopy/docs/latest/index.html)"
   ]
  },
  {
   "cell_type": "code",
   "execution_count": null,
   "metadata": {},
   "outputs": [],
   "source": []
  }
 ],
 "metadata": {
  "kernelspec": {
   "display_name": "Python [conda env:week11]",
   "language": "python",
   "name": "conda-env-week11-py"
  },
  "language_info": {
   "codemirror_mode": {
    "name": "ipython",
    "version": 3
   },
   "file_extension": ".py",
   "mimetype": "text/x-python",
   "name": "python",
   "nbconvert_exporter": "python",
   "pygments_lexer": "ipython3",
   "version": "3.6.7"
  }
 },
 "nbformat": 4,
 "nbformat_minor": 2
}
